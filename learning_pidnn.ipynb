{
 "cells": [
  {
   "cell_type": "markdown",
   "metadata": {},
   "source": [
    "### Main imports and GPU settings"
   ]
  },
  {
   "cell_type": "code",
   "execution_count": 37,
   "metadata": {},
   "outputs": [
    {
     "name": "stdout",
     "output_type": "stream",
     "text": [
      "NVIDIA GeForce RTX 2060\n",
      "cuda:0\n",
      "=======================\n",
      "\n",
      "Using CPU\n"
     ]
    },
    {
     "data": {
      "text/plain": [
       "<torch._C.Generator at 0x7fc4c4105270>"
      ]
     },
     "execution_count": 37,
     "metadata": {},
     "output_type": "execute_result"
    }
   ],
   "source": [
    "import torch\n",
    "import torch.nn as nn\n",
    "import torch.optim as optim\n",
    "from torch import Tensor\n",
    "import matplotlib.pyplot as plt\n",
    "\n",
    "\n",
    "# Show all available GPUs\n",
    "print(torch.cuda.get_device_name(0))\n",
    "\n",
    "# Set device to GPU if available\n",
    "device = torch.device(\"cuda:0\" if torch.cuda.is_available() else \"cpu\")\n",
    "print(device)\n",
    "\n",
    "print('=======================\\n')\n",
    "GPU = False\n",
    "# Set default tensor type to cuda.FloatTensor if GPU is available\n",
    "if torch.cuda.is_available() and GPU:\n",
    "    torch.set_default_tensor_type(torch.cuda.FloatTensor)\n",
    "    torch.set_default_device(device)\n",
    "    torch.set_default_dtype(torch.float32)\n",
    "    print(f\"Using GPU: {torch.cuda.get_device_name(0)}\")\n",
    "    print(f\"Dtype: {torch.get_default_dtype()}\")\n",
    "    print(f\"Device: {torch.cuda.current_device()}\")\n",
    "else:\n",
    "    torch.set_default_tensor_type(torch.FloatTensor)\n",
    "    device = torch.device(\"cpu\")\n",
    "    torch.set_default_device(device)\n",
    "    print(\"Using CPU\")\n",
    "\n",
    "\n",
    "# Set seed for reproducibility\n",
    "torch.manual_seed(0)"
   ]
  },
  {
   "cell_type": "markdown",
   "metadata": {},
   "source": [
    "### Local imports of classes"
   ]
  },
  {
   "cell_type": "code",
   "execution_count": 38,
   "metadata": {},
   "outputs": [],
   "source": [
    "import random\n",
    "import importlib\n",
    "\n",
    "# Local imports modules\n",
    "import classes.SimulationNN as SimulationNN\n",
    "import classes.Systems as Systems\n",
    "import classes.PID as PID\n",
    "\n",
    "# Reload modules\n",
    "importlib.reload(SimulationNN)\n",
    "importlib.reload(Systems)\n",
    "importlib.reload(PID)\n",
    "\n",
    "# Local import reloaded classes\n",
    "from classes.SimulationNN import SimulationNN\n",
    "from classes.Systems import Trolley\n",
    "from classes.PID import PID"
   ]
  },
  {
   "cell_type": "markdown",
   "metadata": {},
   "source": [
    "### Build Neural Network and CustomLoss function"
   ]
  },
  {
   "cell_type": "code",
   "execution_count": 39,
   "metadata": {},
   "outputs": [],
   "source": [
    "# Defining the architecture of the neural network\n",
    "class NeuralNetwork(nn.Module):\n",
    "    def __init__(self):\n",
    "        super(NeuralNetwork, self).__init__()\n",
    "        self.fc1 = nn.Linear(5, 10)\n",
    "        self.fc2 = nn.Linear(10, 6)\n",
    "        self.fc3 = nn.Linear(6, 3)\n",
    "\n",
    "        # Activation functions\n",
    "        self.act_tahn = nn.Tanh()\n",
    "        self.act_softplus = nn.Softplus()\n",
    "        self.act_relu = nn.ReLU()\n",
    "        self.act_relu6 = nn.ReLU6()\n",
    "\n",
    "        # Initialize weights\n",
    "        nn.init.xavier_uniform_(self.fc1.weight)\n",
    "        nn.init.xavier_uniform_(self.fc2.weight)\n",
    "        nn.init.xavier_uniform_(self.fc3.weight)\n",
    "\n",
    "        # Initialize biases\n",
    "        self.fc1.bias.data.fill_(0.01)\n",
    "        self.fc2.bias.data.fill_(0.01)\n",
    "        # self.fc3.bias.data.fill_(0.01)\n",
    "\n",
    "    def forward(self, x) -> Tensor:\n",
    "        x = self.fc1(x)\n",
    "        x = self.act_relu6(x)\n",
    "        x = self.fc2(x)\n",
    "        x = self.act_relu6(x)\n",
    "        x = self.fc3(x)\n",
    "        return x\n",
    "\n",
    "\n",
    "# Custom Loss Function\n",
    "class CustomLoss(nn.Module):\n",
    "    def __init__(self):\n",
    "        super(CustomLoss, self).__init__()\n",
    "\n",
    "    def forward(self, vector_K: Tensor, vector_E: Tensor, dt: Tensor):\n",
    "        \"\"\"\n",
    "        Args:\n",
    "            vector_K (tensor): [Kp_t, Kp_t_1, Ki_t, Ki_t_1, Kd_t, Kd_t_1] vector of the gains\n",
    "            vector_E (tensor): [E_t, E_t_1] vector of the errors\n",
    "            dt (float): time step between the current and previous position\n",
    "\n",
    "        Returns:\n",
    "            loss (tensor): loss function\n",
    "        \"\"\"\n",
    "        # Unpack the vectors\n",
    "        Kp_t, Kp_t_1, Ki_t, Ki_t_1, Kd_t, Kd_t_1 = vector_K\n",
    "\n",
    "        E_t, E_t_1 = vector_E\n",
    "\n",
    "\n",
    "        # Compute\n",
    "        dKp = Kp_t - Kp_t_1\n",
    "        dKi = Ki_t - Ki_t_1\n",
    "        dKd = Kd_t - Kd_t_1\n",
    "\n",
    "        # Clamp the values\n",
    "        dKp = torch.clamp(dKp, min=1e-1, max=1e6)\n",
    "        dKi = torch.clamp(dKi, min=1e-1, max=1e6)\n",
    "        dKd = torch.clamp(dKd, min=1e-1, max=1e6)\n",
    "\n",
    "        \n",
    "        dEdKp = (E_t - E_t_1) / dKp\n",
    "        dEdKi = (E_t - E_t_1) / dKi\n",
    "        dEdKd = (E_t - E_t_1) / dKd\n",
    "\n",
    "        # Compute the loss function\n",
    "        loss_Kp = torch.mean(dEdKp**2)\n",
    "        loss_Ki = torch.mean(dEdKi**2)\n",
    "        loss_Kd = torch.mean(dEdKd**2)\n",
    "\n",
    "        # Compute the total loss\n",
    "        loss = loss_Kp + loss_Ki + loss_Kd          \n",
    "        \n",
    "\n",
    "        loss = torch.mean(E_t)\n",
    "        return loss\n"
   ]
  },
  {
   "cell_type": "markdown",
   "metadata": {},
   "source": [
    "### Creating the model, loss function and optimizer"
   ]
  },
  {
   "cell_type": "code",
   "execution_count": 40,
   "metadata": {},
   "outputs": [],
   "source": [
    "# Model\n",
    "model = NeuralNetwork()\n",
    "\n",
    "# Loss function\n",
    "custom_loss = CustomLoss()\n",
    "\n",
    "# Optimizers\n",
    "optimizer = optim.SGD(model.parameters(), lr=0.0001, momentum=0.09)\n",
    "# optimizer = optim.Adam(model.parameters(), lr = torch.tensor(0.0001))"
   ]
  },
  {
   "cell_type": "markdown",
   "metadata": {},
   "source": []
  },
  {
   "cell_type": "code",
   "execution_count": 41,
   "metadata": {},
   "outputs": [],
   "source": [
    "\n",
    "DT = torch.tensor(0.02)\n",
    "TIME = torch.arange(0, 120, DT)\n",
    "TARGET = 5 * torch.ones(len(TIME))\n",
    "DISTURBANCE = torch.zeros(len(TIME))\n",
    "\n",
    "mass = torch.tensor(1)\n",
    "friction = torch.tensor(0.1)\n",
    "trolley = Trolley(mass=mass, friction=friction, dt=DT)\n",
    "\n",
    "KP = torch.tensor(1)\n",
    "KI = torch.tensor(0.1)\n",
    "KD = torch.tensor(0.5)\n",
    "pid = PID(KP, KI, KD)\n",
    "pid.setLims(None, None)\n",
    "\n",
    "simulation = SimulationNN(TIME, TARGET, DISTURBANCE, DT)\n",
    "simulation.model = model\n",
    "simulation.custom_loss = custom_loss\n",
    "simulation.optimizer = optimizer"
   ]
  },
  {
   "cell_type": "code",
   "execution_count": 42,
   "metadata": {},
   "outputs": [
    {
     "name": "stdout",
     "output_type": "stream",
     "text": [
      "-----------------Epoch 1/1-----------------\n"
     ]
    },
    {
     "data": {
      "application/vnd.jupyter.widget-view+json": {
       "model_id": "e35b114d02474ed0b6e83fd3ac9e6480",
       "version_major": 2,
       "version_minor": 0
      },
      "text/plain": [
       "  0%|          | 0/6000 [00:00<?, ?it/s]"
      ]
     },
     "metadata": {},
     "output_type": "display_data"
    }
   ],
   "source": [
    "EPOCHS = 1\n",
    "for i in range(EPOCHS):\n",
    "    # Reset the trolley and simulation\n",
    "    trolley.reset()\n",
    "    simulation.reset()    \n",
    "\n",
    "    print(f\"-----------------Epoch {i+1}/{EPOCHS}-----------------\")\n",
    "    \n",
    "    # TARGET = torch.ones(len(TIME)) * random.uniform(0, 10)\n",
    "    # TARGET[TIME > 30] = random.uniform(0, 10)\n",
    "    # TARGET[TIME > 60] = random.uniform(0, 10)\n",
    "    # TARGET[TIME > 90] = random.uniform(0, 10)\n",
    "    # TARGET[TIME > 160] = random.uniform(0, 10)\n",
    "        \n",
    "    # trolley.mass = torch.tensor(random.uniform(0.5, 3))\n",
    "    # trolley.friction = torch.tensor(random.uniform(0.01, 0.5))\n",
    "    # trolley.spring_constant = torch.tensor(random.uniform(0, 100))\n",
    "\n",
    "    # simulation.target = TARGET\n",
    "    simulation.run(trolley, pid)"
   ]
  },
  {
   "cell_type": "code",
   "execution_count": 46,
   "metadata": {},
   "outputs": [
    {
     "data": {
      "image/png": "[encoded data removed]",
      "text/plain": [
       "<Figure size 640x480 with 1 Axes>"
      ]
     },
     "metadata": {},
     "output_type": "display_data"
    },
    {
     "data": {
      "image/png": "[encoded data removed]",
      "text/plain": [
       "<Figure size 1500x500 with 3 Axes>"
      ]
     },
     "metadata": {},
     "output_type": "display_data"
    }
   ],
   "source": [
    "simulation.plot()\n",
    "simulation.plot_K()"
   ]
  },
  {
   "cell_type": "code",
   "execution_count": 47,
   "metadata": {},
   "outputs": [
    {
     "name": "stdout",
     "output_type": "stream",
     "text": [
      "tensor([0.0000, 4.8980, 4.7946, 4.6919, 4.5912, 4.4923, 4.3945, 4.2976, 4.2014,\n",
      "        4.1059], grad_fn=<SliceBackward0>)\n",
      "tensor([0.0000, 4.8980, 4.7946, 4.6919, 4.5912, 4.4923, 4.3945, 4.2976, 4.2014,\n",
      "        4.1059], grad_fn=<SliceBackward0>)\n",
      "tensor([ 1.0000, -2.3328, -2.4183, -1.7878, -1.2487, -0.9865, -0.9199, -0.9723,\n",
      "        -1.0387, -1.0703], grad_fn=<SliceBackward0>)\n",
      "tensor([ 1.0000, -1.1226, -1.1564, -0.4284,  0.0891,  0.1517,  0.0766, -0.0050,\n",
      "        -0.0614, -0.0815], grad_fn=<SliceBackward0>)\n",
      "tensor([ 1.0000, -4.0321, -3.0718, -1.8138, -1.3308, -1.4115, -1.4865, -1.5962,\n",
      "        -1.6504, -1.6250], grad_fn=<SliceBackward0>)\n"
     ]
    }
   ],
   "source": [
    "print(simulation.feedback_E[:10])\n",
    "print(simulation.feedback_L[:10])\n",
    "print(simulation.feedback_Kp[:10])\n",
    "print(simulation.feedback_Ki[:10])\n",
    "print(simulation.feedback_Kd[:10])\n"
   ]
  },
  {
   "cell_type": "code",
   "execution_count": 45,
   "metadata": {},
   "outputs": [
    {
     "name": "stdout",
     "output_type": "stream",
     "text": [
      "Model saved successfully\n"
     ]
    }
   ],
   "source": [
    "# Save the model\n",
    "torch.save(model.state_dict(), 'model.pth')\n",
    "print(\"Model saved successfully\")       "
   ]
  }
 ],
 "metadata": {
  "kernelspec": {
   "display_name": "nn",
   "language": "python",
   "name": "python3"
  },
  "language_info": {
   "codemirror_mode": {
    "name": "ipython",
    "version": 3
   },
   "file_extension": ".py",
   "mimetype": "text/x-python",
   "name": "python",
   "nbconvert_exporter": "python",
   "pygments_lexer": "ipython3",
   "version": "3.11.6"
  }
 },
 "nbformat": 4,
 "nbformat_minor": 2
}
