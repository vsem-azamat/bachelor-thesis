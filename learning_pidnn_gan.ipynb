{
 "cells": [
  {
   "cell_type": "markdown",
   "metadata": {},
   "source": [
    "### Main imports and GPU settings"
   ]
  },
  {
   "cell_type": "code",
   "execution_count": 8,
   "metadata": {},
   "outputs": [
    {
     "name": "stdout",
     "output_type": "stream",
     "text": [
      "NVIDIA GeForce RTX 2060\n",
      "cuda:0\n",
      "=======================\n",
      "\n",
      "Using CPU\n"
     ]
    },
    {
     "data": {
      "text/plain": [
       "<torch.autograd.anomaly_mode.set_detect_anomaly at 0x7f35c8b67210>"
      ]
     },
     "execution_count": 8,
     "metadata": {},
     "output_type": "execute_result"
    }
   ],
   "source": [
    "import torch\n",
    "import torch.nn as nn\n",
    "import torch.optim as optim\n",
    "from torch import Tensor\n",
    "import matplotlib.pyplot as plt\n",
    "\n",
    "\n",
    "# Show all available GPUs\n",
    "print(torch.cuda.get_device_name(0))\n",
    "\n",
    "# Set device to GPU if available\n",
    "device = torch.device(\"cuda:0\" if torch.cuda.is_available() else \"cpu\")\n",
    "print(device)\n",
    "\n",
    "print('=======================\\n')\n",
    "GPU = False\n",
    "# Set default tensor type to cuda.FloatTensor if GPU is available\n",
    "if torch.cuda.is_available() and GPU:\n",
    "    torch.set_default_tensor_type(torch.cuda.FloatTensor)\n",
    "    torch.set_default_device(device)\n",
    "    torch.set_default_dtype(torch.float32)\n",
    "    print(f\"Using GPU: {torch.cuda.get_device_name(0)}\")\n",
    "    print(f\"Dtype: {torch.get_default_dtype()}\")\n",
    "    print(f\"Device: {torch.cuda.current_device()}\")\n",
    "else:\n",
    "    torch.set_default_tensor_type(torch.FloatTensor)\n",
    "    device = torch.device(\"cpu\")\n",
    "    torch.set_default_device(device)\n",
    "    print(\"Using CPU\")\n",
    "\n",
    "\n",
    "# Set seed for reproducibility\n",
    "torch.manual_seed(0)\n",
    "\n",
    "torch.autograd.set_detect_anomaly(True)\n"
   ]
  },
  {
   "cell_type": "markdown",
   "metadata": {},
   "source": [
    "### Local imports of classes"
   ]
  },
  {
   "cell_type": "code",
   "execution_count": 9,
   "metadata": {},
   "outputs": [],
   "source": [
    "from tqdm.notebook import tqdm\n",
    "import random\n",
    "import importlib\n",
    "\n",
    "\n",
    "# Local imports modules\n",
    "import classes.Systems as Systems\n",
    "import classes.PID as PID\n",
    "\n",
    "# Reload modules\n",
    "importlib.reload(Systems)\n",
    "importlib.reload(PID)\n",
    "\n",
    "# Local import reloaded classes\n",
    "from classes.Systems import Trolley\n",
    "from classes.PID import PID"
   ]
  },
  {
   "cell_type": "markdown",
   "metadata": {},
   "source": [
    "### Build Neural Network\n",
    "\n",
    "- PIDNN - Generator\n",
    "- System - Discrimator\n",
    "\n",
    "- GAN - Gan model"
   ]
  },
  {
   "cell_type": "code",
   "execution_count": 10,
   "metadata": {},
   "outputs": [],
   "source": [
    "# Generator (PIDNN)\n",
    "class PIDNN(nn.Module):\n",
    "    def __init__(self):\n",
    "        super(PIDNN, self).__init__()\n",
    "        self.fc1 = nn.Linear(2, 15)\n",
    "        self.fc2 = nn.Linear(15, 3)\n",
    "\n",
    "        # Normalization\n",
    "        self.norm = nn.functional.normalize\n",
    "\n",
    "        # Activation functions\n",
    "        self.act_tahn = nn.Tanh()\n",
    "        self.act_relu = nn.ReLU()\n",
    "\n",
    "        # Initialize weights\n",
    "        nn.init.xavier_uniform_(self.fc1.weight)\n",
    "        nn.init.xavier_uniform_(self.fc2.weight)\n",
    "\n",
    "        # Initialize biases\n",
    "        self.fc1.bias.data.fill_(0.1)\n",
    "        self.fc2.bias.data.fill_(0.1)\n",
    "\n",
    "    def forward(self, x) -> Tensor:\n",
    "        # x = self.norm(x, dim=0, p=2)\n",
    "        x = self.fc1(x)\n",
    "        x = self.act_relu(x)\n",
    "        x = self.fc2(x)\n",
    "        return x\n",
    "    \n",
    "\n",
    "# Discriminator (System)\n",
    "class SystemNN(nn.Module):\n",
    "    def __init__(self):\n",
    "        super(SystemNN, self).__init__()\n",
    "        self.fc1 = nn.Linear(1, 6)\n",
    "        self.fc2 = nn.Linear(6, 1)\n",
    "        self.act_sigmoid = nn.Sigmoid()\n",
    "\n",
    "        # Initialize weights\n",
    "        self.fc1.bias.data.fill_(0.1)\n",
    "        nn.init.xavier_uniform_(self.fc1.weight)\n",
    "        nn.init.xavier_uniform_(self.fc2.weight)\n",
    "\n",
    "    def forward(self, x):\n",
    "        x = self.fc1(x)\n",
    "        x = self.act_sigmoid(x)\n",
    "        x = self.fc2(x)\n",
    "        return x\n",
    "\n",
    "\n",
    "# Custom Loss Function\n",
    "class CustomLoss(nn.Module):\n",
    "    def __init__(self):\n",
    "        super(CustomLoss, self).__init__()\n",
    "\n",
    "    def forward(self, E: Tensor) -> Tensor:\n",
    "        \"\"\"\n",
    "        Args:\n",
    "            vector_K (tensor): [Kp_t, Kp_t_1, Ki_t, Ki_t_1, Kd_t, Kd_t_1] vector of the gains\n",
    "            vector_E (tensor): [E_t, E_t_1] vector of the errors\n",
    "            dt (float): time step between the current and previous position\n",
    "\n",
    "        Returns:\n",
    "            loss (tensor): loss function\n",
    "        \"\"\"\n",
    "    \n",
    "        return E.abs()\n"
   ]
  },
  {
   "cell_type": "markdown",
   "metadata": {},
   "source": [
    "### Creating the model, loss function and optimizer"
   ]
  },
  {
   "cell_type": "code",
   "execution_count": 11,
   "metadata": {},
   "outputs": [],
   "source": [
    "# Models\n",
    "pidnn = PIDNN()\n",
    "systemnn = SystemNN()\n",
    "\n",
    "# Loss functions\n",
    "loss_pid = CustomLoss()\n",
    "loss_system = nn.MSELoss()\n",
    "\n",
    "# Optimizers\n",
    "optimizer_pid = optim.Adam(pidnn.parameters(), lr=0.0001)\n",
    "optimizer_system = optim.Adam(systemnn.parameters(), lr=0.0001)"
   ]
  },
  {
   "cell_type": "markdown",
   "metadata": {},
   "source": [
    "Init params for system"
   ]
  },
  {
   "cell_type": "code",
   "execution_count": 12,
   "metadata": {},
   "outputs": [
    {
     "name": "stderr",
     "output_type": "stream",
     "text": [
      "/home/poryadok/miniconda3/lib/python3.11/site-packages/torch/utils/_device.py:77: UserWarning: To copy construct from a tensor, it is recommended to use sourceTensor.clone().detach() or sourceTensor.clone().detach().requires_grad_(True), rather than torch.tensor(sourceTensor).\n",
      "  return func(*args, **kwargs)\n"
     ]
    }
   ],
   "source": [
    "# Simulation\n",
    "DT = torch.tensor(0.02)\n",
    "TIME = torch.arange(0, 120, DT)\n",
    "TARGET = 5 * torch.ones(len(TIME))\n",
    "DISTURBANCE = torch.zeros(len(TIME))\n",
    "\n",
    "# System\n",
    "mass = torch.tensor(1.)\n",
    "friction = torch.tensor(0.1)\n",
    "trolley = Trolley(mass=mass, friction=friction, dt=DT)\n",
    "\n",
    "# PID\n",
    "Kp = torch.tensor(1.)\n",
    "Ki = torch.tensor(0.1)\n",
    "Kd = torch.tensor(0.5)\n",
    "pid = PID(Kp, Ki, Kd)\n",
    "\n",
    "U_min = torch.tensor(-500.)\n",
    "U_max = torch.tensor(500.)\n",
    "pid.setLims(U_min, U_max)"
   ]
  },
  {
   "cell_type": "code",
   "execution_count": 13,
   "metadata": {},
   "outputs": [],
   "source": [
    "# Loss\n",
    "feedback_Loss = torch.zeros(len(TIME))\n",
    "\n",
    "# Gains\n",
    "feedback_Kp = torch.zeros(len(TIME))\n",
    "feedback_Ki = torch.zeros(len(TIME))\n",
    "feedback_Kd = torch.zeros(len(TIME))\n",
    "\n",
    "# System\n",
    "feedback_x = torch.zeros(len(TIME))\n",
    "feedback_u = torch.zeros(len(TIME))"
   ]
  },
  {
   "cell_type": "code",
   "execution_count": 14,
   "metadata": {},
   "outputs": [
    {
     "data": {
      "application/vnd.jupyter.widget-view+json": {
       "model_id": "746ec4c78c3241069c72e78d612e074f",
       "version_major": 2,
       "version_minor": 0
      },
      "text/plain": [
       "  0%|          | 0/6000 [00:00<?, ?it/s]"
      ]
     },
     "metadata": {},
     "output_type": "display_data"
    },
    {
     "data": {
      "application/vnd.jupyter.widget-view+json": {
       "model_id": "e410fa812e1a49af9407758f620ddc07",
       "version_major": 2,
       "version_minor": 0
      },
      "text/plain": [
       "  0%|          | 0/6000 [00:00<?, ?it/s]"
      ]
     },
     "metadata": {},
     "output_type": "display_data"
    },
    {
     "data": {
      "application/vnd.jupyter.widget-view+json": {
       "model_id": "648b312b8ca24e23b0243348357d6828",
       "version_major": 2,
       "version_minor": 0
      },
      "text/plain": [
       "  0%|          | 0/6000 [00:00<?, ?it/s]"
      ]
     },
     "metadata": {},
     "output_type": "display_data"
    },
    {
     "data": {
      "application/vnd.jupyter.widget-view+json": {
       "model_id": "e66f4be96a2744569cf9f7e825e32868",
       "version_major": 2,
       "version_minor": 0
      },
      "text/plain": [
       "  0%|          | 0/6000 [00:00<?, ?it/s]"
      ]
     },
     "metadata": {},
     "output_type": "display_data"
    },
    {
     "data": {
      "application/vnd.jupyter.widget-view+json": {
       "model_id": "1c161f331be24af78feb63acf7716aa6",
       "version_major": 2,
       "version_minor": 0
      },
      "text/plain": [
       "  0%|          | 0/6000 [00:00<?, ?it/s]"
      ]
     },
     "metadata": {},
     "output_type": "display_data"
    },
    {
     "data": {
      "application/vnd.jupyter.widget-view+json": {
       "model_id": "287cc53c017b4f3cb33b9f8635f12b14",
       "version_major": 2,
       "version_minor": 0
      },
      "text/plain": [
       "  0%|          | 0/6000 [00:00<?, ?it/s]"
      ]
     },
     "metadata": {},
     "output_type": "display_data"
    },
    {
     "data": {
      "application/vnd.jupyter.widget-view+json": {
       "model_id": "a9e7a36bd6944d40935b2468b7dfd3b0",
       "version_major": 2,
       "version_minor": 0
      },
      "text/plain": [
       "  0%|          | 0/6000 [00:00<?, ?it/s]"
      ]
     },
     "metadata": {},
     "output_type": "display_data"
    },
    {
     "data": {
      "application/vnd.jupyter.widget-view+json": {
       "model_id": "392570ac81cc49aba6da7a4927f1a4ef",
       "version_major": 2,
       "version_minor": 0
      },
      "text/plain": [
       "  0%|          | 0/6000 [00:00<?, ?it/s]"
      ]
     },
     "metadata": {},
     "output_type": "display_data"
    },
    {
     "data": {
      "application/vnd.jupyter.widget-view+json": {
       "model_id": "8109e90b7b594515ba79c66484dfa464",
       "version_major": 2,
       "version_minor": 0
      },
      "text/plain": [
       "  0%|          | 0/6000 [00:00<?, ?it/s]"
      ]
     },
     "metadata": {},
     "output_type": "display_data"
    },
    {
     "data": {
      "application/vnd.jupyter.widget-view+json": {
       "model_id": "aef65af7ab624051b788ae57f5f83478",
       "version_major": 2,
       "version_minor": 0
      },
      "text/plain": [
       "  0%|          | 0/6000 [00:00<?, ?it/s]"
      ]
     },
     "metadata": {},
     "output_type": "display_data"
    },
    {
     "ename": "KeyboardInterrupt",
     "evalue": "",
     "output_type": "error",
     "traceback": [
      "\u001b[0;31m---------------------------------------------------------------------------\u001b[0m",
      "\u001b[0;31mKeyboardInterrupt\u001b[0m                         Traceback (most recent call last)",
      "Cell \u001b[0;32mIn[14], line 78\u001b[0m\n\u001b[1;32m     76\u001b[0m feedback_Kp[idx] \u001b[38;5;241m=\u001b[39m Kp\u001b[38;5;241m.\u001b[39mitem()\n\u001b[1;32m     77\u001b[0m feedback_Ki[idx] \u001b[38;5;241m=\u001b[39m Ki\u001b[38;5;241m.\u001b[39mitem()\n\u001b[0;32m---> 78\u001b[0m feedback_Kd[idx] \u001b[38;5;241m=\u001b[39m \u001b[43mKd\u001b[49m\u001b[38;5;241;43m.\u001b[39;49m\u001b[43mitem\u001b[49m\u001b[43m(\u001b[49m\u001b[43m)\u001b[49m\n\u001b[1;32m     80\u001b[0m \u001b[38;5;66;03m# System\u001b[39;00m\n\u001b[1;32m     81\u001b[0m feedback_x[idx] \u001b[38;5;241m=\u001b[39m new_position\u001b[38;5;241m.\u001b[39mitem()\n",
      "File \u001b[0;32m~/miniconda3/lib/python3.11/site-packages/torch/utils/_device.py:73\u001b[0m, in \u001b[0;36mDeviceContext.__torch_function__\u001b[0;34m(self, func, types, args, kwargs)\u001b[0m\n\u001b[1;32m     70\u001b[0m     CURRENT_DEVICE \u001b[38;5;241m=\u001b[39m \u001b[38;5;28mself\u001b[39m\u001b[38;5;241m.\u001b[39mold_device\n\u001b[1;32m     71\u001b[0m     \u001b[38;5;28;01mreturn\u001b[39;00m \u001b[38;5;28msuper\u001b[39m()\u001b[38;5;241m.\u001b[39m\u001b[38;5;21m__exit__\u001b[39m(exc_type, exc_val, exc_tb)\n\u001b[0;32m---> 73\u001b[0m \u001b[38;5;28;01mdef\u001b[39;00m \u001b[38;5;21m__torch_function__\u001b[39m(\u001b[38;5;28mself\u001b[39m, func, types, args\u001b[38;5;241m=\u001b[39m(), kwargs\u001b[38;5;241m=\u001b[39m\u001b[38;5;28;01mNone\u001b[39;00m):\n\u001b[1;32m     74\u001b[0m     kwargs \u001b[38;5;241m=\u001b[39m kwargs \u001b[38;5;129;01mor\u001b[39;00m {}\n\u001b[1;32m     75\u001b[0m     \u001b[38;5;28;01mif\u001b[39;00m func \u001b[38;5;129;01min\u001b[39;00m _device_constructors() \u001b[38;5;129;01mand\u001b[39;00m kwargs\u001b[38;5;241m.\u001b[39mget(\u001b[38;5;124m'\u001b[39m\u001b[38;5;124mdevice\u001b[39m\u001b[38;5;124m'\u001b[39m) \u001b[38;5;129;01mis\u001b[39;00m \u001b[38;5;28;01mNone\u001b[39;00m:\n",
      "\u001b[0;31mKeyboardInterrupt\u001b[0m: "
     ]
    }
   ],
   "source": [
    "EPOCHS = 20\n",
    "# Epochs loop\n",
    "for epoch in range(EPOCHS):\n",
    "    \n",
    "    TARGET[TIME>40] = random.uniform(0, 15)\n",
    "    TARGET[TIME>80] = random.uniform(0, 15)\n",
    "    TARGET[TIME>100] = random.uniform(0, 15)\n",
    "\n",
    "    trolley.mass = torch.tensor(random.uniform(0.5, 5.))\n",
    "    trolley.friction = torch.tensor(random.uniform(0.1, 0.5))\n",
    "    trolley.spring_constant = torch.tensor(random.uniform(5., 50.))\n",
    "\n",
    "    # Time loop\n",
    "    with tqdm(total=len(TIME)-1) as pbar:\n",
    "        for idx in range(1, len(TIME)):\n",
    "            \n",
    "            target = TARGET[idx]\n",
    "            disturbance = DISTURBANCE[idx]\n",
    "            position = trolley.get_position()\n",
    "\n",
    "            #------------- PREDICTION -------------#\n",
    "            # Predict the gains: Kp, Ki, Kd\n",
    "            prediction = pidnn(torch.tensor([target, position]))\n",
    "            Kp, Ki, Kd = prediction\n",
    "\n",
    "            # Update the gains of the PID controller\n",
    "            with torch.no_grad():\n",
    "                pid.Kp.copy_(Kp)\n",
    "                pid.Ki.copy_(Ki)\n",
    "                pid.Kd.copy_(Kd)\n",
    "\n",
    "            # Compute the control output\n",
    "            control_output = pid.compute(position, target, DT)\n",
    "\n",
    "            #------------- SYSTEMS -------------#\n",
    "            # REAL SYSTEM\n",
    "            # Compute the new position\n",
    "            trolley.apply_control(control_output, disturbance)\n",
    "            # Compute the error\n",
    "            new_position = trolley.get_position()\n",
    "            error = target - new_position            \n",
    "\n",
    "            # FAKE SYSTEM - DISCRIMINATOR\n",
    "            # Compute the new position\n",
    "            new_position_fake = systemnn(torch.tensor([control_output])).detach()\n",
    "            new_position_fake = new_position_fake.squeeze()\n",
    "            new_position_fake.requires_grad = True\n",
    "\n",
    "            # Compute the error\n",
    "            error_fake = target - new_position_fake\n",
    "\n",
    "            # Loss: System\n",
    "            lossSystem = loss_system(new_position, new_position_fake)\n",
    "            lossSystem.backward(retain_graph=True)\n",
    "            optimizer_system.step()\n",
    "            optimizer_system.zero_grad()\n",
    "\n",
    "\n",
    "            #------------- TRAINING -------------#\n",
    "            # Loss: PID\n",
    "            lossPID = loss_pid(error_fake)\n",
    "            lossPID.backward(retain_graph=True)\n",
    "            optimizer_pid.step()\n",
    "            optimizer_pid.zero_grad()\n",
    "\n",
    "            # Update the progress bar\n",
    "            pbar.update(1)\n",
    "            pbar.set_description(f\"Epoch {epoch+1}/{EPOCHS} | Loss: {lossPID.item():.4f}\")\n",
    "            pbar.set_postfix({\"Kp\": Kp.item(), \"Ki\": Ki.item(), \"Kd\": Kd.item()})\n",
    "\n",
    "            #------------- FEEDBACK -------------#\n",
    "            # Loss\n",
    "            feedback_Loss[idx] = lossPID.item()\n",
    "            \n",
    "            # Gains\n",
    "            feedback_Kp[idx] = Kp.item()\n",
    "            feedback_Ki[idx] = Ki.item()\n",
    "            feedback_Kd[idx] = Kd.item()\n",
    "\n",
    "            # System\n",
    "            feedback_x[idx] = new_position.item()\n",
    "            feedback_u[idx] = control_output.item()"
   ]
  },
  {
   "cell_type": "code",
   "execution_count": null,
   "metadata": {},
   "outputs": [
    {
     "data": {
      "image/png": "[encoded data removed]",
      "text/plain": [
       "<Figure size 1500x1000 with 4 Axes>"
      ]
     },
     "metadata": {},
     "output_type": "display_data"
    }
   ],
   "source": [
    "def plot_feedback():\n",
    "    fig, axs = plt.subplots(2, 2, figsize=(15, 10))\n",
    "    \n",
    "    # Loss\n",
    "    axs[0, 0].plot(TIME, feedback_Loss)\n",
    "    axs[0, 0].set_title(\"Loss\")\n",
    "    axs[0, 0].set_xlabel(\"Time (s)\")\n",
    "    axs[0, 0].set_ylabel(\"Loss\")\n",
    "\n",
    "    # Gains\n",
    "    axs[0, 1].plot(TIME, feedback_Kp, label=\"Kp\", color=\"blue\")\n",
    "    axs[0, 1].plot(TIME, feedback_Ki, label=\"Ki\", color=\"orange\")\n",
    "    axs[0, 1].plot(TIME, feedback_Kd, label=\"Kd\", color=\"green\")\n",
    "    axs[0, 1].set_title(\"Kp, Ki, Kd\")\n",
    "    axs[0, 1].set_xlabel(\"Time (s)\")\n",
    "    axs[0, 1].set_ylabel(\"Gain\")\n",
    "    axs[0, 1].legend()\n",
    "\n",
    "    # System\n",
    "    axs[1, 0].plot(TIME, feedback_x, label=\"x\", color=\"blue\")\n",
    "    axs[1, 0].plot(TIME, TARGET, label=\"target\", color=\"orange\")\n",
    "    axs[1, 0].set_title(\"System\")\n",
    "    axs[1, 0].set_xlabel(\"Time (s)\")\n",
    "    axs[1, 0].set_ylabel(\"Position (m)\")\n",
    "    axs[1, 0].legend()\n",
    "\n",
    "    # Control\n",
    "    axs[1, 1].plot(TIME, feedback_u)\n",
    "    axs[1, 1].set_title(\"Control\")\n",
    "    axs[1, 1].set_xlabel(\"Time (s)\")\n",
    "    axs[1, 1].set_ylabel(\"Control (U)\")\n",
    "\n",
    "    plt.show()\n",
    "\n",
    "plot_feedback()"
   ]
  },
  {
   "cell_type": "code",
   "execution_count": null,
   "metadata": {},
   "outputs": [
    {
     "name": "stdout",
     "output_type": "stream",
     "text": [
      "Model saved successfully\n"
     ]
    }
   ],
   "source": [
    "# Save the model\n",
    "torch.save(pidnn.state_dict(), 'model.pth')\n",
    "print(\"Model saved successfully\")       "
   ]
  }
 ],
 "metadata": {
  "kernelspec": {
   "display_name": "nn",
   "language": "python",
   "name": "python3"
  },
  "language_info": {
   "codemirror_mode": {
    "name": "ipython",
    "version": 3
   },
   "file_extension": ".py",
   "mimetype": "text/x-python",
   "name": "python",
   "nbconvert_exporter": "python",
   "pygments_lexer": "ipython3",
   "version": "3.11.6"
  }
 },
 "nbformat": 4,
 "nbformat_minor": 2
}
