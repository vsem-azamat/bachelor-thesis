{
 "cells": [
  {
   "cell_type": "code",
   "execution_count": 22,
   "metadata": {},
   "outputs": [
    {
     "name": "stdout",
     "output_type": "stream",
     "text": [
      "NVIDIA GeForce RTX 2060\n",
      "cuda:0\n",
      "=============\n",
      "Using GPU\n"
     ]
    },
    {
     "data": {
      "text/plain": [
       "<torch._C.Generator at 0x7f4927eb6650>"
      ]
     },
     "execution_count": 22,
     "metadata": {},
     "output_type": "execute_result"
    }
   ],
   "source": [
    "import torch\n",
    "import torch.nn as nn\n",
    "import torch.optim as optim\n",
    "from torch import Tensor\n",
    "\n",
    "import tqdm\n",
    "import matplotlib.pyplot as plt\n",
    "from typing import Tuple, Optional\n",
    "\n",
    "from Simulation import Simulation\n",
    "\n",
    "# Show all available GPUs\n",
    "print(torch.cuda.get_device_name(0))\n",
    "\n",
    "# Set device to GPU if available\n",
    "device = torch.device(\"cuda:0\" if torch.cuda.is_available() else \"cpu\")\n",
    "print(device)\n",
    "\n",
    "print('=============')\n",
    "# Set default tensor type to cuda.FloatTensor if GPU is available\n",
    "if torch.cuda.is_available():\n",
    "    torch.set_default_tensor_type(torch.cuda.FloatTensor)\n",
    "    print(\"Using GPU\")\n",
    "else:\n",
    "    torch.set_default_tensor_type(torch.FloatTensor)\n",
    "    print(\"Using CPU\")\n",
    "\n",
    "\n",
    "# Set seed for reproducibility\n",
    "torch.manual_seed(0)"
   ]
  },
  {
   "cell_type": "code",
   "execution_count": 23,
   "metadata": {},
   "outputs": [],
   "source": [
    "class Trolley:\n",
    "\tdef __init__(self, mass: Tensor, friction: Tensor, dt: Tensor) -> None:\n",
    "\t\t\"\"\"\n",
    "\t\tInitialize the trolley\n",
    "\n",
    "\t\tArgs:\n",
    "\t\t\tmass (float): mass of the trolley\n",
    "\t\t\tfriction (float): friction coefficient of the trolley\n",
    "\t\t\tdt (float): time step between the current and previous position\n",
    "\n",
    "\t\tReturns:\n",
    "\t\t\tNone\n",
    "\t\t\"\"\"\n",
    "\t\tself.mass: Tensor = torch.tensor(mass, dtype=torch.float32, device=device)\n",
    "\t\tself.friction: Tensor = torch.tensor(friction, dtype=torch.float32, device=device)\n",
    "\t\tself.spring_constant: Tensor = torch.tensor(50, dtype=torch.float32, device=device)\n",
    "\t\tself.dt: Tensor = torch.tensor(dt, dtype=torch.float32, device=device)\n",
    "\t\tself.position: Tensor = torch.tensor(0, dtype=torch.float32, device=device)\n",
    "\t\tself.delta_position: Tensor = torch.tensor(0, dtype=torch.float32, device=device)\n",
    "\t\tself.velocity: Tensor = torch.tensor(0, dtype=torch.float32, device=device)\n",
    "\t\tself.F: Tensor = torch.tensor(50, dtype=torch.float32, device=device)\n",
    "\n",
    "\n",
    "\tdef update(self, control_output: Tensor, distrubance: Tensor = torch.tensor(0.)) -> None:\n",
    "\t\t\"\"\"\n",
    "\t\tUpdate the position and velocity of the trolley\n",
    "\t\t\n",
    "\t\tArgs:\n",
    "\t\t\tTODO: select best unit for the demonstration\n",
    "\t\t\n",
    "\t\tReturns:\n",
    "\t\t\tNone\n",
    "\t\t\t\n",
    "\t\tEquation of model:\n",
    "            F = ma\n",
    "            a = F/m\n",
    "            a = F/m - friction*v/m\n",
    "            v = v + a*dt\n",
    "            x = x + v*dt\n",
    "\t\t\"\"\"\n",
    "\t\tF = control_output\n",
    "\t\tacceleration = F / self.mass - self.friction * self.velocity / self.mass - self.spring_constant * self.delta_position / self.mass\n",
    "\t\tself.velocity += acceleration * self.dt\n",
    "\t\tposition = self.position + self.velocity * self.dt\n",
    "\t\tself.delta_position = position - self.position\n",
    "\t\tself.position = position\n",
    "\n",
    "\n",
    "\tdef get_position(self) -> Tensor:\n",
    "\t\t\"\"\"\n",
    "\t\tGet the position of the trolley\n",
    "\n",
    "\t\tArgs:\n",
    "\t\t\tNone\n",
    "\n",
    "\t\tReturns:\n",
    "\t\t\tfloat: position of the trolley\n",
    "\t\t\"\"\"\n",
    "\t\treturn self.position\n",
    "\t\n",
    "\n",
    "\tdef get_U(self) -> Tuple[Tensor, Tensor, Tensor]:\n",
    "\t\treturn self.position, self.position/self.dt, self.position/(self.dt**2)\n",
    "\t\n",
    "\n",
    "\tdef reset(self) -> None:\n",
    "\t\t\"\"\"\n",
    "\t\tReset the position and velocity of the trolley\n",
    "\n",
    "\t\tArgs:\n",
    "\t\t\tNone\n",
    "\n",
    "\t\tReturns:\n",
    "\t\t\tNone\n",
    "\t\t\"\"\"\n",
    "\t\tself.position = torch.tensor(0, dtype=torch.float32, device=device)\n",
    "\t\tself.velocity = torch.tensor(0, dtype=torch.float32, device=device)\n",
    "\t\tself.delta_position = torch.tensor(0, dtype=torch.float32, device=device)\n",
    "\n",
    "\n",
    "class PID:\n",
    "\t\"\"\"PID controller class\"\"\"\n",
    "\tdef __init__(self, KP: Tensor, KI: Tensor, KD: Tensor) -> None:\n",
    "\t\t\"\"\"\n",
    "\t\tA PID controller is characterized by three parameters: proportional gain (KP), integral gain (KI), and derivative gain (KD).\n",
    "\t\t\n",
    "\t\tArgs:\n",
    "            KP (float): proportional gain\n",
    "            KI (float): integral gain\n",
    "            KD (float): derivative gain\n",
    "\t\t\"\"\"\n",
    "\t\t# PID parameters\n",
    "\t\tself.KP: Tensor = torch.tensor(KP, dtype=torch.float32, device=device)\n",
    "\t\tself.KI: Tensor = torch.tensor(KI, dtype=torch.float32, device=device)\n",
    "\t\tself.KD: Tensor = torch.tensor(KD, dtype=torch.float32, device=device)\n",
    "\n",
    "        # PID states\n",
    "\t\tself.error: Tensor = torch.tensor(0, dtype=torch.float32, device=device)\n",
    "\t\tself.error_last: Tensor = torch.tensor(0, dtype=torch.float32, device=device)\n",
    "\t\tself.integral_error: Tensor = torch.tensor(0, dtype=torch.float32, device=device)\n",
    "\t\tself.derivative_error: Tensor = torch.tensor(0, dtype=torch.float32, device=device)\n",
    "\n",
    "\t\t# PID saturation limits\n",
    "\t\tself.saturation_max: Optional[Tensor] = torch.tensor(5, dtype=torch.float32, device=device)\n",
    "\t\tself.saturation_min: Optional[Tensor] = torch.tensor(-5, dtype=torch.float32, device=device)\n",
    "\t\n",
    "    \n",
    "\tdef compute(self, target: Tensor, position: Tensor, dt: Tensor) -> Tensor:\n",
    "\t\t\"\"\"\n",
    "\t\tCalculate the output of the PID controller\n",
    "\t\t\n",
    "\t\tArgs:\n",
    "            target (float): target value\n",
    "\t\t\tposition (float): current value\n",
    "\t\t\tdt (float): time step between the current and previous position\n",
    "\t\t\t\n",
    "        Returns:\n",
    "            float: output of the PID controller\n",
    "\t\t\"\"\"\n",
    "\t\t# Calculate the errors\n",
    "\t\tself.error = target - position # error = target - current\n",
    "\t\tself.integral_error += self.error * dt #error build up over time\n",
    "\t\tself.derivative_error = (self.error - self.error_last) / dt #find the derivative of the error (how the error changes with time)\n",
    "\t\tself.error_last = self.error # update the error\n",
    "\t\t\n",
    "\t\t# Calculate the output\n",
    "\t\toutput = \\\n",
    "\t\t\tself.KP * self.error + \\\n",
    "\t\t\tself.KI * self.integral_error + \\\n",
    "\t\t\tself.KD * self.derivative_error\n",
    "\n",
    "\t\tif self.saturation_max and output > self.saturation_max:\n",
    "\t\t\toutput = self.saturation_max\n",
    "\t\telif self.saturation_min and output < self.saturation_min:\n",
    "\t\t\toutput = self.saturation_min\n",
    "\t\treturn output\n",
    "\n",
    "\n",
    "\tdef setLims(self, min: Optional[Tensor], max: Optional[Tensor]) -> None:\n",
    "\t\t\"\"\"\n",
    "\t\tSet the saturation limits for the PID controller\n",
    "\t\t\n",
    "\t\tArgs:\n",
    "            min (float): minimum value of the output\n",
    "            max (float): maximum value of the output\n",
    "\t\t\t\n",
    "        Returns:\n",
    "            None\n",
    "\t\t\"\"\"\n",
    "\t\tself.saturation_max = max\n",
    "\t\tself.saturation_min = min\n"
   ]
  },
  {
   "cell_type": "code",
   "execution_count": 24,
   "metadata": {},
   "outputs": [],
   "source": [
    "# Defining the architecture of the neural network\n",
    "class NeuralNetwork(nn.Module):\n",
    "    def __init__(self):\n",
    "        super(NeuralNetwork, self).__init__()\n",
    "        self.fc1 = nn.Linear(7, 3).to(device)\n",
    "        self.fc2 = nn.Linear(3, 3).to(device)\n",
    "        # self.activation = nn.ELU(alpha=1)  # Add ELU activation function\n",
    "        self.activation = nn.ReLU6()  # Add ReLU activation function\n",
    "\n",
    "    def forward(self, x) -> Tensor:\n",
    "        x = self.activation(self.fc1(x)).to(device)  # Apply activation function to fc1 layer\n",
    "        x = self.activation(self.fc2(x)).to(device)  # Apply activation function to fc2 layer\n",
    "        return x\n",
    "\n",
    "\n",
    "# Custom Loss Function\n",
    "class CustomLoss(nn.Module):\n",
    "    def __init__(self):\n",
    "        super(CustomLoss, self).__init__()\n",
    "\n",
    "    def forward(self, predicted_Y: Tensor, input_X: Tensor, vector_E: Tensor, K: Tensor, dt: Tensor):\n",
    "        \"\"\"\n",
    "        Args:\n",
    "            predicted_Y (tensor): coeeficients of the PID controller (KP, KI, KD)\n",
    "            input_X (tensor): X(t) = [x(t), x(t-1), u(t), u(t-1)]\n",
    "            error (tensor): error between the target and current position\n",
    "            dt (float): time step between the current and previous position\n",
    "\n",
    "        Returns:\n",
    "            loss (tensor): loss function\n",
    "        \"\"\"\n",
    "        x_t = input_X[0]\n",
    "        x_t_1 = input_X[1]\n",
    "        u_t = input_X[2]\n",
    "        u_t_1 = input_X[3]\n",
    "\n",
    "        dxdt = (x_t_1 - x_t) / dt\n",
    "        dudt = (u_t_1 - u_t) / dt\n",
    "\n",
    "        Kp_t = K[0]\n",
    "        Kp_t_1 = K[1]\n",
    "        delta_Kp = Kp_t_1 - Kp_t\n",
    "        Ki_t = K[2]\n",
    "        Ki_t_1 = K[3]\n",
    "        delta_Ki = Ki_t_1 - Ki_t\n",
    "        Kd_t = K[4]\n",
    "        Kd_t_1 = K[5]\n",
    "        delta_Kd = Kd_t_1 - Kd_t\n",
    "\n",
    "        E_t = vector_E[0]\n",
    "        E_t_1 = vector_E[1]\n",
    "        delta_E = E_t_1 - E_t\n",
    "\n",
    "        # loss = torch.mean(((delta_E/delta_Kp)**2 + (delta_E/delta_Ki)**2 + (delta_E/delta_Kd)**2)**(1/2))\n",
    "        # loss= torch.mean(((delta_E/dt)**2 + (delta_Kp/dt)**2 + (delta_Ki/dt)**2 + (delta_Kd/dt)**2))\n",
    "        # loss= torch.mean(((delta_E/dt)**2))\n",
    "        loss = torch.mean(E_t)\n",
    "\n",
    "\n",
    "        # mse_loss = torch.mean(error**2).to(device)\n",
    "        # control_loss = torch.mean((u_t_1-u_t)**2).to(device)\n",
    "        # loss = mse_loss + control_loss\n",
    "\n",
    "\n",
    "        # loss = torch.mean((dxdt)**2)\n",
    "        return loss\n"
   ]
  },
  {
   "cell_type": "markdown",
   "metadata": {},
   "source": [
    "### Creating the model, loss function and optimizer"
   ]
  },
  {
   "cell_type": "code",
   "execution_count": 25,
   "metadata": {},
   "outputs": [],
   "source": [
    "# Model\n",
    "model = NeuralNetwork()\n",
    "# model = CustomResidualBlock()\n",
    "\n",
    "# Loss function\n",
    "custom_loss = CustomLoss()\n",
    "\n",
    "# Optimizers\n",
    "# optimizer = optim.Adam(model.parameters(), lr=0.01)\n",
    "optimizer = optim.SGD(model.parameters(), lr=0.0005)\n",
    "# optimizer = optim.Adadelta(model.parameters(), lr=1)"
   ]
  },
  {
   "cell_type": "markdown",
   "metadata": {},
   "source": [
    "### Class for simulation env"
   ]
  },
  {
   "cell_type": "code",
   "execution_count": 26,
   "metadata": {},
   "outputs": [],
   "source": [
    "class SimulationNN(Simulation):\n",
    "\tdef __init__(self, time: Tensor, target: Tensor, disturbance: Tensor, dt: Tensor = torch.tensor(0.01)) -> None:\n",
    "\t\tsuper().__init__(time, target, disturbance, dt)\n",
    "\t\tself.model = None\n",
    "\t\tself.custom_loss = None\n",
    "\t\tself.optimizer = None\n",
    "\n",
    "\t\tself.feedback_Kp = torch.zeros(len(time))\n",
    "\t\tself.feedback_Ki = torch.zeros(len(time))\n",
    "\t\tself.feedback_Kd = torch.zeros(len(time))\n",
    "\n",
    "\n",
    "\tdef run(self, trolley: Trolley, pid: PID) -> None:\n",
    "\n",
    "\t\t# Check if the model, loss function, and optimizer are defined\n",
    "\t\tif self.model is None or self.custom_loss is None or self.optimizer is None:\n",
    "\t\t\traise Exception(\"Model, loss function, or optimizer is not defined\")\n",
    "\n",
    "\t\t# This cycle like the one epoc in the training\n",
    "\t\twith tqdm.tqdm(total=len(self.time)-1) as pbar:\n",
    "\t\t\tpbar.colour = 'green'\n",
    "\t\t\tfor i in range(1, len(self.time)):\n",
    "\t\t\t\t# Get data from the previous step\n",
    "\t\t\t\ttarget = self.target[i]\n",
    "\t\t\t\tdisturbance = self.disturbance[i]\n",
    "\t\t\t\tposition = trolley.get_position()\n",
    "\n",
    "\t\t\t\t# PID controller\n",
    "\t\t\t\tpid.KP = self.feedback_Kp[i-1]\n",
    "\t\t\t\tpid.KI = self.feedback_Ki[i-1]\n",
    "\t\t\t\tpid.KD = self.feedback_Kd[i-1]\n",
    "\t\t\t\tcontrol_output = pid.compute(target, position, self.dt)\n",
    "\t\t\t\tself.feedback_U[i] = control_output\n",
    "\n",
    "\t\t\t\t# Update the trolley\n",
    "\t\t\t\ttrolley.update(control_output, disturbance)\n",
    "\n",
    "\t\t\t\t# Get the current position\n",
    "\t\t\t\tnew_position = trolley.get_position()\n",
    "\t\t\t\tself.feedback_X[i] = new_position\n",
    "\n",
    "\t\t\t\t# Reset gradient\n",
    "\t\t\t\tself.optimizer.zero_grad()\n",
    "\n",
    "\t\t\t\t# Build input vector X\n",
    "\t\t\t\tX_t = self.feedback_X[i]\n",
    "\t\t\t\tX_t_1 = self.feedback_X[i-1]\n",
    "\t\t\t\tU_t = self.feedback_U[i]\n",
    "\t\t\t\tU_t_1 = self.feedback_U[i-1]\n",
    "\t\t\t\tT_t = self.target[i]\n",
    "\t\t\t\tT_t_1 = self.target[i-1]\n",
    "\t\t\t\tE = self.target[i] - self.feedback_X[i]\n",
    "\n",
    "\t\t\t\tinput_X = torch.tensor([X_t, X_t_1, U_t, U_t_1, T_t, T_t_1, E], dtype=torch.float32, requires_grad=True).to(device)\n",
    "\n",
    "\t\t\t\t# Predict the next coeeficients of the PID controller\n",
    "\t\t\t\tpredicted_Y = self.model(input_X)\n",
    "\t\t\t\tKp = predicted_Y[0].item()\n",
    "\t\t\t\tKi = predicted_Y[1].item()\n",
    "\t\t\t\tKd = predicted_Y[2].item()\n",
    "\n",
    "\t\t\t\t# Save the coefficients\n",
    "\t\t\t\tself.feedback_Kp[i] = Kp\n",
    "\t\t\t\tself.feedback_Ki[i] = Ki\n",
    "\t\t\t\tself.feedback_Kd[i] = Kd\n",
    "\n",
    "\t\t\t\t# Vector of K coefficients\n",
    "\t\t\t\tKp_t = self.feedback_Kp[i]\n",
    "\t\t\t\tKp_t_1 = self.feedback_Kp[i-1]\n",
    "\t\t\t\tKi_t = self.feedback_Ki[i]\n",
    "\t\t\t\tKi_t_1 = self.feedback_Ki[i-1]\n",
    "\t\t\t\tKd_t = self.feedback_Kd[i]\n",
    "\t\t\t\tKd_t_1 = self.feedback_Kd[i-1]\n",
    "\n",
    "\t\t\t\tK = torch.tensor([Kp_t, Kp_t_1, Ki_t, Ki_t_1, Kd_t, Kd_t_1], dtype=torch.float32, requires_grad=True).to(device)\n",
    "\n",
    "\t\t\t\t# Calculate the error\n",
    "\t\t\t\tE_t = target - new_position\n",
    "\t\t\t\tE_t_1 = self.feedback_E[i-1]\n",
    "\t\t\t\tself.feedback_E[i] = E_t\n",
    "\t\t\t\tvector_E = torch.tensor([E_t, E_t_1], dtype=torch.float32, requires_grad=True).to(device)\n",
    "\t\t\t\t\n",
    "\t\t\t\t# Calculate the loss\n",
    "\t\t\t\tloss = self.custom_loss(\n",
    "\t\t\t\t\tpredicted_Y, input_X, vector_E, K,\n",
    "\t\t\t\t\tself.dt\n",
    "\t\t\t\t\t)\n",
    "\n",
    "\t\t\t\t# Backpropagation\n",
    "\t\t\t\tloss.backward()\n",
    "\n",
    "\t\t\t\t# Update the weights\n",
    "\t\t\t\tself.optimizer.step()\n",
    "\n",
    "\t\t\t\t# Update the progress bar\n",
    "\t\t\t\tpbar.update(1)\n",
    "\t\t\t\tpbar.set_description(f\"Loss: {loss.item():.4f} | X_pred: {X_t:.4f}, X_targ: {target:.4f} | U: {U_t:.4f} | Kp: {Kp:.4f}, Ki: {Ki:.4f}, Kd: {Kd:.4f}\")\n",
    "\n",
    "\n",
    "\tdef plot_K(self) -> None:\n",
    "\n",
    "\t\t# Convert to numpy\n",
    "\t\ttime = self.time.cpu().detach().numpy()\n",
    "\t\tfeedback_Kp = self.feedback_Kp.cpu().detach().numpy()\n",
    "\t\tfeedback_Ki = self.feedback_Ki.cpu().detach().numpy()\n",
    "\t\tfeedback_Kd = self.feedback_Kd.cpu().detach().numpy()\n",
    "\n",
    "\t\tprint(self.time)\n",
    "\t\tprint(self.feedback_Kp)\n",
    "\t\tprint(self.feedback_Ki)\n",
    "\t\tprint(self.feedback_Kd)\n",
    "\n",
    "\n",
    "\t\t# Plot the coefficients\n",
    "\t\tfig, ax = plt.subplots(1, 3, figsize=(15, 5))\n",
    "\t\tax[0].plot(time, feedback_Kp, label='Kp')\n",
    "\t\tax[0].set_xlabel('Time [s]')\n",
    "\t\tax[0].set_ylabel('Kp')\n",
    "\t\tax[0].legend()\n",
    "\t\tax[1].plot(time, feedback_Ki, label='Ki')\n",
    "\t\tax[1].set_xlabel('Time [s]')\n",
    "\t\tax[1].set_ylabel('Ki')\n",
    "\t\tax[1].legend()\n",
    "\t\tax[2].plot(time, feedback_Kd, label='Kd')\n",
    "\t\tax[2].set_xlabel('Time [s]')\n",
    "\t\tax[2].set_ylabel('Kd')\n",
    "\t\tax[2].legend()\n",
    "\t\tax[0].grid()\n",
    "\t\tax[1].grid()\n",
    "\t\tax[2].grid()\n",
    "\t\tplt.show()\n",
    "\n",
    "\n",
    "\tdef reset(self) -> None:\n",
    "\t\tself.feedback_X = torch.zeros(len(self.time))\n",
    "\t\tself.feedback_U = torch.zeros(len(self.time))\n",
    "\t\tself.feedback_Kp = torch.zeros(len(self.time))\n",
    "\t\tself.feedback_Ki = torch.zeros(len(self.time))\n",
    "\t\tself.feedback_Kd = torch.zeros(len(self.time))"
   ]
  },
  {
   "cell_type": "code",
   "execution_count": 27,
   "metadata": {},
   "outputs": [
    {
     "name": "stderr",
     "output_type": "stream",
     "text": [
      "/tmp/ipykernel_73277/968870369.py:14: UserWarning: To copy construct from a tensor, it is recommended to use sourceTensor.clone().detach() or sourceTensor.clone().detach().requires_grad_(True), rather than torch.tensor(sourceTensor).\n",
      "  self.mass: Tensor = torch.tensor(mass, dtype=torch.float32, device=device)\n",
      "/tmp/ipykernel_73277/968870369.py:15: UserWarning: To copy construct from a tensor, it is recommended to use sourceTensor.clone().detach() or sourceTensor.clone().detach().requires_grad_(True), rather than torch.tensor(sourceTensor).\n",
      "  self.friction: Tensor = torch.tensor(friction, dtype=torch.float32, device=device)\n",
      "/tmp/ipykernel_73277/968870369.py:17: UserWarning: To copy construct from a tensor, it is recommended to use sourceTensor.clone().detach() or sourceTensor.clone().detach().requires_grad_(True), rather than torch.tensor(sourceTensor).\n",
      "  self.dt: Tensor = torch.tensor(dt, dtype=torch.float32, device=device)\n",
      "/tmp/ipykernel_73277/968870369.py:93: UserWarning: To copy construct from a tensor, it is recommended to use sourceTensor.clone().detach() or sourceTensor.clone().detach().requires_grad_(True), rather than torch.tensor(sourceTensor).\n",
      "  self.KP: Tensor = torch.tensor(KP, dtype=torch.float32, device=device)\n",
      "/tmp/ipykernel_73277/968870369.py:94: UserWarning: To copy construct from a tensor, it is recommended to use sourceTensor.clone().detach() or sourceTensor.clone().detach().requires_grad_(True), rather than torch.tensor(sourceTensor).\n",
      "  self.KI: Tensor = torch.tensor(KI, dtype=torch.float32, device=device)\n",
      "/tmp/ipykernel_73277/968870369.py:95: UserWarning: To copy construct from a tensor, it is recommended to use sourceTensor.clone().detach() or sourceTensor.clone().detach().requires_grad_(True), rather than torch.tensor(sourceTensor).\n",
      "  self.KD: Tensor = torch.tensor(KD, dtype=torch.float32, device=device)\n"
     ]
    }
   ],
   "source": [
    "import random\n",
    "\n",
    "DT = torch.tensor(0.02).to(device)\n",
    "TIME = torch.arange(0, 120, DT).to(device)\n",
    "TARGET = 5 * torch.zeros(len(TIME)).to(device)\n",
    "DISTURBANCE = torch.zeros(len(TIME)).to(device)\n",
    "\n",
    "mass = torch.tensor(1, dtype=torch.float32, device=device)\n",
    "friction = torch.tensor(0.1, dtype=torch.float32, device=device)\n",
    "trolley = Trolley(mass=mass, friction=friction, dt=DT)\n",
    "\n",
    "KP = torch.tensor(0, dtype=torch.float32, device=device)\n",
    "KI = torch.tensor(0, dtype=torch.float32, device=device)\n",
    "KD = torch.tensor(0, dtype=torch.float32, device=device)\n",
    "pid = PID(KP, KI, KD)\n",
    "pid.setLims(None, None)\n",
    "\n",
    "simulation = SimulationNN(TIME, TARGET, DISTURBANCE, DT)\n",
    "simulation.model = model.to(device)\n",
    "simulation.custom_loss = custom_loss.to(device)\n",
    "simulation.optimizer = optimizer"
   ]
  },
  {
   "cell_type": "code",
   "execution_count": 28,
   "metadata": {},
   "outputs": [
    {
     "name": "stdout",
     "output_type": "stream",
     "text": [
      "-----------------Epoch 1/20-----------------\n"
     ]
    },
    {
     "name": "stderr",
     "output_type": "stream",
     "text": [
      "Loss: -0.1588 | X_pred: 3.0479, X_targ: 2.8891 | U: -1.7102 | Kp: 0.0000, Ki: 0.2360, Kd: 0.0000: 100%|\u001b[32m██████████\u001b[0m| 6000/6000 [00:32<00:00, 184.74it/s]   \n"
     ]
    },
    {
     "name": "stdout",
     "output_type": "stream",
     "text": [
      "-----------------Epoch 2/20-----------------\n"
     ]
    },
    {
     "name": "stderr",
     "output_type": "stream",
     "text": [
      "Loss: 7.7660 | X_pred: -1.9115, X_targ: 5.8545 | U: 0.0366 | Kp: 0.0191, Ki: 0.4132, Kd: 0.0000: 100%|\u001b[32m██████████\u001b[0m| 6000/6000 [00:33<00:00, 179.10it/s]    \n"
     ]
    },
    {
     "name": "stdout",
     "output_type": "stream",
     "text": [
      "-----------------Epoch 3/20-----------------\n"
     ]
    },
    {
     "name": "stderr",
     "output_type": "stream",
     "text": [
      "Loss: -4.2418 | X_pred: 9.4514, X_targ: 5.2096 | U: -4.2109 | Kp: 0.0000, Ki: 1.7234, Kd: 0.0000: 100%|\u001b[32m██████████\u001b[0m| 6000/6000 [00:39<00:00, 153.75it/s]   \n"
     ]
    },
    {
     "name": "stdout",
     "output_type": "stream",
     "text": [
      "-----------------Epoch 4/20-----------------\n"
     ]
    },
    {
     "name": "stderr",
     "output_type": "stream",
     "text": [
      "Loss: -36788088.0000 | X_pred: 36788092.0000, X_targ: 4.1139 | U: -97715352.0000 | Kp: 0.0000, Ki: 1.7234, Kd: 0.0000: 100%|\u001b[32m██████████\u001b[0m| 6000/6000 [00:35<00:00, 169.16it/s]   \n"
     ]
    },
    {
     "name": "stdout",
     "output_type": "stream",
     "text": [
      "-----------------Epoch 5/20-----------------\n"
     ]
    },
    {
     "name": "stderr",
     "output_type": "stream",
     "text": [
      "Loss: -0.1922 | X_pred: 3.9949, X_targ: 3.8027 | U: -1.0589 | Kp: 0.0000, Ki: 0.3925, Kd: 0.0000: 100%|\u001b[32m██████████\u001b[0m| 6000/6000 [00:47<00:00, 125.32it/s]                   \n"
     ]
    },
    {
     "name": "stdout",
     "output_type": "stream",
     "text": [
      "-----------------Epoch 6/20-----------------\n"
     ]
    },
    {
     "name": "stderr",
     "output_type": "stream",
     "text": [
      "Loss: -1.8565 | X_pred: 11.6160, X_targ: 9.7595 | U: -40.5178 | Kp: 0.0000, Ki: 1.7234, Kd: 0.0000: 100%|\u001b[32m██████████\u001b[0m| 6000/6000 [00:58<00:00, 102.49it/s] \n"
     ]
    },
    {
     "name": "stdout",
     "output_type": "stream",
     "text": [
      "-----------------Epoch 7/20-----------------\n"
     ]
    },
    {
     "name": "stderr",
     "output_type": "stream",
     "text": [
      "Loss: 255240.5156 | X_pred: -255234.1094, X_targ: 6.4103 | U: 1107309.5000 | Kp: 4.7548, Ki: 0.0000, Kd: 0.0000: 100%|\u001b[32m██████████\u001b[0m| 6000/6000 [00:58<00:00, 102.60it/s] \n"
     ]
    },
    {
     "name": "stdout",
     "output_type": "stream",
     "text": [
      "-----------------Epoch 8/20-----------------\n"
     ]
    },
    {
     "name": "stderr",
     "output_type": "stream",
     "text": [
      "Loss: 3.3502 | X_pred: 4.4250, X_targ: 7.7752 | U: 35.3297 | Kp: 4.7548, Ki: 0.0000, Kd: 0.0000: 100%|\u001b[32m██████████\u001b[0m| 6000/6000 [00:56<00:00, 106.46it/s]              \n"
     ]
    },
    {
     "name": "stdout",
     "output_type": "stream",
     "text": [
      "-----------------Epoch 9/20-----------------\n"
     ]
    },
    {
     "name": "stderr",
     "output_type": "stream",
     "text": [
      "Loss: -4.2692 | X_pred: 7.4439, X_targ: 3.1747 | U: -3.5914 | Kp: 0.0000, Ki: 1.7234, Kd: 0.0000: 100%|\u001b[32m██████████\u001b[0m| 6000/6000 [00:56<00:00, 105.96it/s]    \n"
     ]
    },
    {
     "name": "stdout",
     "output_type": "stream",
     "text": [
      "-----------------Epoch 10/20-----------------\n"
     ]
    },
    {
     "name": "stderr",
     "output_type": "stream",
     "text": [
      "Loss: 2.9416 | X_pred: 6.3044, X_targ: 9.2460 | U: -62.3190 | Kp: 0.0000, Ki: 1.7234, Kd: 0.0000: 100%|\u001b[32m██████████\u001b[0m| 6000/6000 [00:54<00:00, 110.42it/s]     \n"
     ]
    },
    {
     "name": "stdout",
     "output_type": "stream",
     "text": [
      "-----------------Epoch 11/20-----------------\n"
     ]
    },
    {
     "name": "stderr",
     "output_type": "stream",
     "text": [
      "Loss: 2.9912 | X_pred: 3.6905, X_targ: 6.6817 | U: -9.7602 | Kp: 0.0000, Ki: 1.7234, Kd: 0.0000: 100%|\u001b[32m██████████\u001b[0m| 6000/6000 [00:46<00:00, 128.41it/s]    \n"
     ]
    },
    {
     "name": "stdout",
     "output_type": "stream",
     "text": [
      "-----------------Epoch 12/20-----------------\n"
     ]
    },
    {
     "name": "stderr",
     "output_type": "stream",
     "text": [
      "Loss: 9.8084 | X_pred: -2.7732, X_targ: 7.0352 | U: 0.0384 | Kp: 0.0163, Ki: 0.5593, Kd: 0.0000: 100%|\u001b[32m██████████\u001b[0m| 6000/6000 [00:40<00:00, 148.57it/s]    \n"
     ]
    },
    {
     "name": "stdout",
     "output_type": "stream",
     "text": [
      "-----------------Epoch 13/20-----------------\n"
     ]
    },
    {
     "name": "stderr",
     "output_type": "stream",
     "text": [
      "Loss: -8.8851 | X_pred: 16.0957, X_targ: 7.2106 | U: -8.3168 | Kp: 0.0000, Ki: 1.0941, Kd: 0.0000: 100%|\u001b[32m██████████\u001b[0m| 6000/6000 [00:40<00:00, 148.58it/s] \n"
     ]
    },
    {
     "name": "stdout",
     "output_type": "stream",
     "text": [
      "-----------------Epoch 14/20-----------------\n"
     ]
    },
    {
     "name": "stderr",
     "output_type": "stream",
     "text": [
      "Loss: -66487.3984 | X_pred: 66496.6953, X_targ: 9.3002 | U: -543684.6250 | Kp: 0.0000, Ki: 1.7234, Kd: 0.0000: 100%|\u001b[32m██████████\u001b[0m| 6000/6000 [00:33<00:00, 181.76it/s]  \n"
     ]
    },
    {
     "name": "stdout",
     "output_type": "stream",
     "text": [
      "-----------------Epoch 15/20-----------------\n"
     ]
    },
    {
     "name": "stderr",
     "output_type": "stream",
     "text": [
      "Loss: 2.0303 | X_pred: -0.2223, X_targ: 1.8081 | U: 0.0000 | Kp: 0.0000, Ki: 0.0000, Kd: 0.0000: 100%|\u001b[32m██████████\u001b[0m| 6000/6000 [00:35<00:00, 168.05it/s]              \n"
     ]
    },
    {
     "name": "stdout",
     "output_type": "stream",
     "text": [
      "-----------------Epoch 16/20-----------------\n"
     ]
    },
    {
     "name": "stderr",
     "output_type": "stream",
     "text": [
      "Loss: 15.7432 | X_pred: -9.5469, X_targ: 6.1964 | U: -0.0197 | Kp: 1.9625, Ki: 0.4254, Kd: 0.0000: 100%|\u001b[32m██████████\u001b[0m| 6000/6000 [00:37<00:00, 158.85it/s]  \n"
     ]
    },
    {
     "name": "stdout",
     "output_type": "stream",
     "text": [
      "-----------------Epoch 17/20-----------------\n"
     ]
    },
    {
     "name": "stderr",
     "output_type": "stream",
     "text": [
      "Loss: -139648.5938 | X_pred: 139657.4688, X_targ: 8.8706 | U: -268992.2812 | Kp: 0.0000, Ki: 1.7234, Kd: 0.0000: 100%|\u001b[32m██████████\u001b[0m| 6000/6000 [00:36<00:00, 162.36it/s]\n"
     ]
    },
    {
     "name": "stdout",
     "output_type": "stream",
     "text": [
      "-----------------Epoch 18/20-----------------\n"
     ]
    },
    {
     "name": "stderr",
     "output_type": "stream",
     "text": [
      "Loss: -9.8501 | X_pred: 11.8839, X_targ: 2.0339 | U: -0.5465 | Kp: 0.0000, Ki: 0.0764, Kd: 0.0000: 100%|\u001b[32m██████████\u001b[0m| 6000/6000 [00:34<00:00, 171.60it/s]           \n"
     ]
    },
    {
     "name": "stdout",
     "output_type": "stream",
     "text": [
      "-----------------Epoch 19/20-----------------\n"
     ]
    },
    {
     "name": "stderr",
     "output_type": "stream",
     "text": [
      "Loss: 7.8427 | X_pred: -3.3375, X_targ: 4.5052 | U: 23.1721 | Kp: 0.0000, Ki: 0.7899, Kd: 0.0000: 100%|\u001b[32m██████████\u001b[0m| 6000/6000 [00:35<00:00, 169.70it/s]    \n"
     ]
    },
    {
     "name": "stdout",
     "output_type": "stream",
     "text": [
      "-----------------Epoch 20/20-----------------\n"
     ]
    },
    {
     "name": "stderr",
     "output_type": "stream",
     "text": [
      "Loss: 11.4962 | X_pred: -8.3555, X_targ: 3.1407 | U: -40.1932 | Kp: 0.0000, Ki: 1.0384, Kd: 0.0000: 100%|\u001b[32m██████████\u001b[0m| 6000/6000 [00:33<00:00, 180.55it/s] \n"
     ]
    }
   ],
   "source": [
    "EPOCHS = 20\n",
    "for i in range(EPOCHS):\n",
    "    # Reset the trolley and simulation\n",
    "    trolley.reset()\n",
    "    simulation.reset()    \n",
    "\n",
    "    print(f\"-----------------Epoch {i+1}/{EPOCHS}-----------------\")\n",
    "\n",
    "    TARGET = torch.ones(len(TIME)) * random.uniform(0, 10)\n",
    "    TARGET[TIME > 30] = random.uniform(0, 10)\n",
    "    TARGET[TIME > 60] = random.uniform(0, 10)\n",
    "    TARGET[TIME > 90] = random.uniform(0, 10)\n",
    "    # TARGET[TIME > 160] = random.uniform(0, 10)\n",
    "\n",
    "    trolley.mass = torch.tensor(random.uniform(0.5, 3), dtype=torch.float32, device=device)\n",
    "    trolley.friction = torch.tensor(random.uniform(0.01, 0.5), dtype=torch.float32, device=device)\n",
    "    trolley.spring_constant = torch.tensor(random.uniform(0, 100), dtype=torch.float32, device=device)\n",
    "\n",
    "    simulation.target = TARGET\n",
    "    simulation.run(trolley, pid)"
   ]
  },
  {
   "cell_type": "code",
   "execution_count": 30,
   "metadata": {},
   "outputs": [
    {
     "data": {
      "image/png": "[encoded data removed]",
      "text/plain": [
       "<Figure size 640x480 with 1 Axes>"
      ]
     },
     "metadata": {},
     "output_type": "display_data"
    },
    {
     "name": "stdout",
     "output_type": "stream",
     "text": [
      "tensor([0.0000e+00, 2.0000e-02, 4.0000e-02,  ..., 1.1996e+02, 1.1998e+02,\n",
      "        1.2000e+02])\n",
      "tensor([0., 0., 0.,  ..., 0., 0., 0.])\n",
      "tensor([0.0000, 0.0978, 0.1047,  ..., 1.6747, 1.7234, 1.0384])\n",
      "tensor([0., 0., 0.,  ..., 0., 0., 0.])\n"
     ]
    },
    {
     "data": {
      "image/png": "[encoded data removed]",
      "text/plain": [
       "<Figure size 1500x500 with 3 Axes>"
      ]
     },
     "metadata": {},
     "output_type": "display_data"
    }
   ],
   "source": [
    "simulation.plot()\n",
    "simulation.plot_K()"
   ]
  },
  {
   "cell_type": "code",
   "execution_count": 31,
   "metadata": {},
   "outputs": [
    {
     "name": "stdout",
     "output_type": "stream",
     "text": [
      "Model saved successfully\n"
     ]
    }
   ],
   "source": [
    "# Save the model\n",
    "torch.save(model.state_dict(), 'model.pth')\n",
    "print(\"Model saved successfully\")"
   ]
  }
 ],
 "metadata": {
  "kernelspec": {
   "display_name": "nn",
   "language": "python",
   "name": "python3"
  },
  "language_info": {
   "codemirror_mode": {
    "name": "ipython",
    "version": 3
   },
   "file_extension": ".py",
   "mimetype": "text/x-python",
   "name": "python",
   "nbconvert_exporter": "python",
   "pygments_lexer": "ipython3",
   "version": "3.11.5"
  }
 },
 "nbformat": 4,
 "nbformat_minor": 2
}
