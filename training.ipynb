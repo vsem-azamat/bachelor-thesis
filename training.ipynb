{
 "cells": [
  {
   "cell_type": "markdown",
   "metadata": {},
   "source": [
    "# Training of the model for PID"
   ]
  },
  {
   "cell_type": "markdown",
   "metadata": {},
   "source": [
    "## Generate random data for training"
   ]
  },
  {
   "cell_type": "markdown",
   "metadata": {},
   "source": [
    "### Import libraries"
   ]
  },
  {
   "cell_type": "code",
   "execution_count": 1,
   "metadata": {},
   "outputs": [],
   "source": [
    "import numpy as np\n",
    "from typing import List\n",
    "\n",
    "# Local imports\n",
    "from PID import PID\n",
    "from Systems import Trolley\n",
    "from simulation import SimulationInfo"
   ]
  },
  {
   "cell_type": "code",
   "execution_count": 4,
   "metadata": {},
   "outputs": [],
   "source": [
    "DT = 0.01\n",
    "TIME = np.arange(0, 50, DT)\n",
    "TARGET = np.ones(len(TIME)) * 5\n",
    "DISTRUBANCE = np.zeros(len(TIME))\n",
    "\n",
    "\n",
    "def run_simulation(kp, ki, kd) -> List[SimulationInfo]:\n",
    "    # Create PID controller\n",
    "    pid = PID(kp, ki, kd)\n",
    "\n",
    "    # Create system\n",
    "    system = Trolley(mass=2, friction=0.1, dt=DT)\n",
    "\n",
    "    simInfo: List[SimulationInfo] = []\n",
    "    for i in range(1, len(TIME)):\n",
    "        time = TIME[i]\n",
    "        target = TARGET[i]\n",
    "        distrubance = DISTRUBANCE[i]\n",
    "        position = system.get_position()\n",
    "\n",
    "        # Compute the control output\n",
    "        control_outpot = pid.compute(target, position, DT)\n",
    "        \n",
    "\n",
    "        # Update the simulation object\n",
    "        system.update(control_outpot)\n",
    "        U, dUdt, dU2dt2 = system.get_U()\n",
    "\n",
    "        # Save\n",
    "        simInfo.append(\n",
    "            SimulationInfo(\n",
    "                time=time,\n",
    "                target=target,\n",
    "                disturbance=distrubance,\n",
    "                U=U,\n",
    "                dUdt=dUdt,\n",
    "                dU2dt2=dU2dt2\n",
    "            )\n",
    "        )\n",
    "    return simInfo\n",
    "\n",
    "\n",
    "\n",
    "def generate_training_data(num_simples: int) -> List[List[SimulationInfo]]:\n",
    "    # Generate random PID parameters\n",
    "    KP = np.random.uniform(low=0, high=5, size=num_simples)\n",
    "    KI = np.random.uniform(low=0, high=5, size=num_simples)\n",
    "    KD = np.random.uniform(low=0, high=5, size=num_simples)\n",
    "\n",
    "    K = np.array([KP, KI, KD]).T\n",
    "\n",
    "    simulations: List[List[SimulationInfo]] = []\n",
    "    for kp, ki, kd in K:\n",
    "        simulations.append(run_simulation(kp, ki, kd))\n",
    "\n",
    "    return simulations\n",
    "\n",
    "\n",
    "simulations = generate_training_data(100)\n"
   ]
  },
  {
   "cell_type": "markdown",
   "metadata": {},
   "source": [
    "## Start training of the model"
   ]
  },
  {
   "cell_type": "code",
   "execution_count": 7,
   "metadata": {},
   "outputs": [],
   "source": [
    "import tensorflow as tf\n",
    "from keras.models import Sequential\n",
    "from keras.layers import Dense, Activation, LSTM"
   ]
  },
  {
   "cell_type": "markdown",
   "metadata": {},
   "source": [
    "### Create the model"
   ]
  },
  {
   "cell_type": "code",
   "execution_count": 12,
   "metadata": {},
   "outputs": [],
   "source": [
    "# Set seed\n",
    "np.random.seed(1000)\n",
    "\n",
    "# Create model\n",
    "model = Sequential()\n",
    "model.add(Dense(units=12, activation='relu', input_dim=6))\n",
    "model.add(Dense(units=6, activation='relu'))\n",
    "model.add(Dense(units=3, activation='relu'))\n",
    "\n",
    "# Compile model\n",
    "model.compile(loss='mean_squared_error',\n",
    "              optimizer='adam',\n",
    "              metrics=['accuracy'])\n",
    "\n",
    "# Optimizer\n",
    "optimizer = tf.keras.optimizers.Adam(learning_rate=0.001)\n",
    "\n",
    "\n",
    "# Create a custom loss function\n",
    "def custom_loss(y_true, y_pred):\n",
    "    return tf.reduce_mean(tf.square(y_true - y_pred))"
   ]
  },
  {
   "cell_type": "markdown",
   "metadata": {},
   "source": [
    "### Make training and validation data"
   ]
  },
  {
   "cell_type": "code",
   "execution_count": 11,
   "metadata": {},
   "outputs": [],
   "source": [
    "# Compile model\n",
    "model.compile(optimizer=optimizer, loss=custom_loss)\n",
    "\n"
   ]
  }
 ],
 "metadata": {
  "kernelspec": {
   "display_name": "nn",
   "language": "python",
   "name": "python3"
  },
  "language_info": {
   "codemirror_mode": {
    "name": "ipython",
    "version": 3
   },
   "file_extension": ".py",
   "mimetype": "text/x-python",
   "name": "python",
   "nbconvert_exporter": "python",
   "pygments_lexer": "ipython3",
   "version": "3.9.0"
  }
 },
 "nbformat": 4,
 "nbformat_minor": 2
}
